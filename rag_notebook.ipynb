{
  "cells": [
    {
      "cell_type": "markdown",
      "metadata": {
        "id": "VLsVZh8siFA9"
      },
      "source": [
        "Instalación de librerías"
      ]
    },
    {
      "cell_type": "code",
      "execution_count": 1,
      "metadata": {},
      "outputs": [],
      "source": [
        "from app.config import GITHUB_USER, GITHUB_REPO, GITHUB_FOLDER\n",
        "from app.github_utils import obtener_archivos_github\n",
        "from app.pdf_utils import cargar_pdfs_desde_github, create_text_splitter\n",
        "from app.llm_utils import crear_chat, crear_embeddings, crear_prompt\n",
        "from app.rag_pipeline import generar_embeddings\n",
        "from app.evaluation import agregar_fila, imprimir_resultados, graficar_pie_respuestas, lista_datos\n",
        "import sys\n",
        "import os\n",
        "\n",
        "sys.path.append(os.path.abspath(\"../app\"))"
      ]
    },
    {
      "cell_type": "code",
      "execution_count": null,
      "metadata": {
        "colab": {
          "base_uri": "https://localhost:8080/"
        },
        "id": "D0vsRaP8HGXe",
        "outputId": "dbde9d3c-542e-4b61-9da4-fece6f47a5fb"
      },
      "outputs": [
        {
          "name": "stdout",
          "output_type": "stream",
          "text": [
            "Procesando: CV_AlejandroNuñez.pdf\n",
            "Procesando: CV_AlexanderBenitez.pdf\n",
            "Procesando: CV_AngelUcedo.pdf\n",
            "Procesando: CV_ArielSchultz.pdf\n",
            "Procesando: CV_ArmandoRodriguez.pdf\n",
            "Procesando: CV_ArnaldoLlanes.pdf\n",
            "Procesando: CV_AurelioAlmiron.pdf\n",
            "Procesando: CV_BautistaCarballo.pdf\n",
            "Procesando: CV_BrunoArguello.pdf\n",
            "Procesando: CV_CarlosTorres.pdf\n",
            "Procesando: CV_ChristianDelgado.pdf\n",
            "Procesando: CV_CindyVeron.pdf\n",
            "Procesando: CV_CristhianVázquez.pdf.pdf\n",
            "Procesando: CV_CésarGonzález.pdf\n",
            "Procesando: CV_DeliaHulskamp.pdf\n",
            "Procesando: CV_DiogenesBritez.pdf\n",
            "Procesando: CV_EmanuelMaldonado.pdf\n",
            "Procesando: CV_FedericoEscobar.pdf\n",
            "Procesando: CV_FernandoEnciso.pdf\n",
            "Procesando: CV_FernandoJara.pdf\n",
            "Procesando: CV_FranciscoLezcano.pdf\n",
            "Procesando: CV_FranciscoMedina.pdf\n",
            "Procesando: CV_FreddyGuerrero.pdf\n",
            "Procesando: CV_GerardoLopez.pdf\n",
            "Procesando: CV_GloriaLopez.pdf\n",
            "Procesando: CV_GustavoGonzalez.pdf\n",
            "Procesando: CV_JorgeBenítez.pdf\n",
            "Procesando: CV_JorgeBritez.pdf\n",
            "Procesando: CV_JoseDuarte.pdf\n",
            "Procesando: CV_JoséBáez.pdf\n",
            "Procesando: CV_JuanAlfonso.pdf\n",
            "Procesando: CV_KarenRiveros.pdf\n",
            "Procesando: CV_KarinaFlecha.pdf\n",
            "Procesando: CV_KevinTroche.pdf\n",
            "Procesando: CV_LinoLugo.pdf\n",
            "Procesando: CV_LizChaparro.pdf\n",
            "Procesando: CV_LuisCapdevila.pdf\n"
          ]
        },
        {
          "name": "stderr",
          "output_type": "stream",
          "text": [
            "Ignoring wrong pointing object 6 0 (offset 0)\n",
            "Ignoring wrong pointing object 8 0 (offset 0)\n",
            "Ignoring wrong pointing object 10 0 (offset 0)\n",
            "Ignoring wrong pointing object 12 0 (offset 0)\n",
            "Ignoring wrong pointing object 14 0 (offset 0)\n",
            "Ignoring wrong pointing object 23 0 (offset 0)\n"
          ]
        },
        {
          "name": "stdout",
          "output_type": "stream",
          "text": [
            "Procesando: CV_LuisRios.pdf\n",
            "Procesando: CV_MarceloGonzalez.pdf\n",
            "Procesando: CV_MartinFlecha.pdf\n",
            "Procesando: CV_MartinLegal.pdf\n",
            "Procesando: CV_MathiasVillasanti.pdf\n",
            "Procesando: CV_MauriciaRoa.pdf\n",
            "Procesando: CV_MicaelaMaldonado.pdf\n",
            "Procesando: CV_OscarGonzalez.pdf\n",
            "Procesando: CV_OscarSantacruz.pdf\n",
            "Procesando: CV_PatriciaSanabria.pdf\n",
            "Procesando: CV_PerlaBareiro.pdf\n",
            "Procesando: CV_RamonQuintana.pdf\n",
            "Procesando: CV_RobertoCano.pdf\n",
            "Procesando: CV_RubenRecalde.pdf\n",
            "Procesando: CV_SergioMartinez.pdf\n",
            "Procesando: CV_SoniaLaviosa.pdf\n",
            "Procesando: CV_TeresaCabrera.pdf\n",
            "Procesando: CV_WillianPaez.pdf\n",
            "Procesando: CV_ZileidyArguello.pdf\n",
            "Procesando: Profile Alejandro Hidalgo.pdf\n",
            "Procesando: Profile Andrea Garay.pdf\n",
            "Procesando: Profile Bruno Martinez.pdf\n",
            "Procesando: Profile Ciro Ferrario.pdf\n",
            "Procesando: Profile Derlis Caballero.pdf\n",
            "Procesando: Profile Edgar Cabral.pdf\n",
            "Procesando: Profile Fabio Diaz.pdf\n",
            "Procesando: Profile Fatima Maciel.pdf\n",
            "Procesando: Profile Federico Miguel Vazquez.pdf\n",
            "Procesando: Profile Fátima Mascheroni.pdf\n",
            "Procesando: Profile Jose Lopez.pdf\n",
            "Procesando: Profile Josue Burgos.pdf\n",
            "Procesando: Profile Juan Alfonzo.pdf\n",
            "Procesando: Profile Juan Vicente Lezcano.pdf\n",
            "Procesando: Profile Leiri Martina.pdf\n",
            "Procesando: Profile Livio Zazzi.pdf\n",
            "Procesando: Profile Omar Queiroz.pdf\n",
            "Procesando: Profile Oscar Gonzalez.pdf\n",
            "Procesando: Profile Ramon Battaglia.pdf\n",
            "Procesando: Profile Raul De Los Santos.pdf\n",
            "Procesando: Profile Ruben Dario Dominguez.pdf\n"
          ]
        }
      ],
      "source": [
        "# Obtener archivos\n",
        "archivos = obtener_archivos_github(GITHUB_USER, GITHUB_REPO, GITHUB_FOLDER)\n",
        "\n",
        "# Preparar splitter y documentos\n",
        "splitter = create_text_splitter()\n",
        "docs = cargar_pdfs_desde_github(archivos, GITHUB_USER, GITHUB_REPO, GITHUB_FOLDER, splitter)\n",
        "\n",
        "# Preparar componentes LLM\n",
        "embeddings = crear_embeddings()\n",
        "chat = crear_chat()\n",
        "prompt = crear_prompt()\n",
        "\n",
        "# Armar cadena de recuperación\n",
        "retrieval_chain = generar_embeddings(docs, embeddings, chat, prompt)"
      ]
    },
    {
      "cell_type": "markdown",
      "metadata": {
        "id": "HCGCzqrGyf-5"
      },
      "source": [
        "# Preguntas y respuestas"
      ]
    },
    {
      "cell_type": "code",
      "execution_count": null,
      "metadata": {
        "colab": {
          "base_uri": "https://localhost:8080/"
        },
        "id": "kJHWb9IPEjW_",
        "outputId": "f3c491cb-a059-43e1-a0d4-3087a859ab9f"
      },
      "outputs": [
        {
          "name": "stdout",
          "output_type": "stream",
          "text": [
            "En la empresa ITTI, se mencionan las siguientes personas y los cargos que desempeñan:\n",
            "\n",
            "1. **Karina Flecha**\n",
            "   - Cargo: Tech Lead\n",
            "\n",
            "2. **Roberto Daniel Cano Benítez**\n",
            "   - Cargos desempeñados: \n",
            "     - Analista Técnico\n",
            "     - Analista Funcional\n",
            "     - Desarrollador/Implementador\n",
            "\n",
            "3. **Jorge Dagoberto Benítez Cabana**\n",
            "   - Cargo: Desarrollador Core Bancario\n",
            "\n",
            "4. **Livio Zazzi**\n",
            "   - Cargo: Jefe de operaciones de TI\n",
            "\n",
            "Estos son los profesionales mencionados en el contexto que trabajan en ITTI y sus respectivos cargos.\n"
          ]
        }
      ],
      "source": [
        "#1 Escribe la pregunta\n",
        "response = retrieval_chain.invoke({\"input\": \"Listar las personas que trabajan en la empresa ITTI y el cargo que desempeñan en esa empresa?\"})\n",
        "print(response[\"answer\"])"
      ]
    },
    {
      "cell_type": "code",
      "execution_count": 2,
      "metadata": {
        "id": "N4kIo-Rd-JUQ"
      },
      "outputs": [],
      "source": [
        "agregar_fila(1, \"Parcialmente correcta\")"
      ]
    },
    {
      "cell_type": "markdown",
      "metadata": {
        "id": "Omj0Q2pQj6wb"
      },
      "source": [
        "**RESPUESTA PARCIALMENTE CORRECTA: No lista a Fernando Encisco y Gerardo Lopez. Livio no trabaja en ITTI; pero por el cargo: Jefe de 'IT' recupera como coincidencia**"
      ]
    },
    {
      "cell_type": "code",
      "execution_count": null,
      "metadata": {
        "colab": {
          "base_uri": "https://localhost:8080/"
        },
        "id": "0jtSKPj0vVwo",
        "outputId": "431a79bf-e413-49a0-d024-306428154ee7"
      },
      "outputs": [
        {
          "name": "stdout",
          "output_type": "stream",
          "text": [
            "Fernando Manuel Enciso no ocupa actualmente un cargo en la empresa ITTI. Según el contexto proporcionado, su experiencia laboral más reciente incluye roles como Gerente de TI en Dia Supermarket y en otras empresas, pero no se menciona que esté vinculado a ITTI en este momento. Sin embargo, el contexto no proporciona información sobre su relación pasada con ITTI, por lo que no se puede afirmar si ha trabajado allí en el pasado. \n",
            "\n",
            "En resumen, con la información disponible, Fernando Manuel Enciso no está asociado con ITTI en la actualidad.\n"
          ]
        }
      ],
      "source": [
        "#2 Escribe la pregunta\n",
        "response = retrieval_chain.invoke({\"input\": \"¿Fernando Manuel Enciso ocupa algún cargo en la empresa -ITTI?\"})\n",
        "print(response[\"answer\"])"
      ]
    },
    {
      "cell_type": "code",
      "execution_count": 3,
      "metadata": {
        "id": "cR6oYTBT-OTu"
      },
      "outputs": [],
      "source": [
        "agregar_fila(2, \"Incorrecta\")"
      ]
    },
    {
      "cell_type": "markdown",
      "metadata": {
        "id": "FYQBwiM--Yqr"
      },
      "source": [
        "**RESPUESTA INCORRECTA: Fernando si trabaja actualmente en ITTI**"
      ]
    },
    {
      "cell_type": "code",
      "execution_count": null,
      "metadata": {
        "colab": {
          "base_uri": "https://localhost:8080/"
        },
        "id": "eBE9DPtTZSXg",
        "outputId": "3a05dc74-9109-43d6-e2c3-51036d1213c3"
      },
      "outputs": [
        {
          "name": "stdout",
          "output_type": "stream",
          "text": [
            "Sí, Gerardo Alexis López tiene experiencia trabajando con bases de datos Oracle. En su currículum se detalla que ha trabajado como Core Banking Engineer en ITTI DIGITAL desde 2021, donde es probable que haya utilizado bases de datos Oracle en su labor. Además, menciona su experiencia previa como programador en Azucarera Paraguaya S.A. entre 2019 y 2021, donde realizó tareas relacionadas con mantenimiento, creación de nuevos reportes, validaciones a nivel de pantallas y base de datos, triggers, procedures, y packages, todos los cuales son aspectos relevantes al trabajar con bases de datos.\n",
            "\n",
            "En cuanto a sus habilidades informáticas, destaca su conocimiento en PL/SQL para Oracle, así como en Oracle Forms y Reports en diversas versiones (6i, 10g, 11g y 12c). También menciona haber trabajado con gestores de bases de datos Oracle 11g y Oracle APEX, lo que refuerza su experiencia en este ámbito.\n",
            "\n",
            "Además, en su experiencia profesional específica, ha participado en proyectos de migración de Oracle Forms y Reports a versiones más recientes, lo que implica un manejo profundo de las bases de datos Oracle. Por lo tanto, se puede concluir que Gerardo Alexis López tiene una sólida experiencia trabajando con bases de datos Oracle.\n"
          ]
        }
      ],
      "source": [
        "#3 Escribe la pregunta\n",
        "response = retrieval_chain.invoke({\"input\": \"Sólo responda sobre la información proporcionada para Gerardo Alexis Lopez, ¿Tiene experiencia trabajando con base de datos Oracle?\"})\n",
        "print(response[\"answer\"])"
      ]
    },
    {
      "cell_type": "code",
      "execution_count": 4,
      "metadata": {
        "id": "d-7zhEo4-VwF"
      },
      "outputs": [],
      "source": [
        "agregar_fila(3, \"Correcta\")"
      ]
    },
    {
      "cell_type": "markdown",
      "metadata": {
        "id": "f91ukoGH_Xpa"
      },
      "source": [
        "**RESPUESTA CORRECTA**"
      ]
    },
    {
      "cell_type": "code",
      "execution_count": null,
      "metadata": {
        "colab": {
          "base_uri": "https://localhost:8080/"
        },
        "id": "rPeiWYATlUWy",
        "outputId": "3a296d03-a61c-470e-89aa-c69224e228a0"
      },
      "outputs": [
        {
          "name": "stdout",
          "output_type": "stream",
          "text": [
            "Sí, Gerardo Alexis López tiene una amplia experiencia trabajando con bases de datos Oracle. A continuación, se detallan sus habilidades y experiencia relacionadas con Oracle:\n",
            "\n",
            "1. **Habilidades Informáticas en Oracle**:\n",
            "   - Gerardo es competente en PL/SQL para Oracle, lo que indica su capacidad para escribir procedimientos almacenados, funciones y otros scripts en este lenguaje.\n",
            "   - Tiene experiencia con Oracle Forms y Reports en varias versiones, incluyendo 6i, 10g, 11g y 12c, lo que sugiere que ha trabajado en el desarrollo y mantenimiento de aplicaciones que utilizan estas herramientas.\n",
            "   - Ha utilizado gestores de bases de datos Oracle 11g, lo que implica que tiene experiencia en la administración y gestión de bases de datos en esta plataforma.\n",
            "\n",
            "2. **Experiencia Laboral**:\n",
            "   - En su rol como Core Banking Engineer en ITTI DIGITAL desde 2021, es probable que haya trabajado con bases de datos Oracle, dado que su experiencia previa está centrada en este entorno.\n",
            "   - Durante su tiempo como programador en Azucarera Paraguaya S.A. (2019-2021), realizó tareas de mantenimiento y desarrollo que incluían la creación de nuevos reportes, validaciones a nivel de pantallas y bases de datos, así como el uso de triggers, procedures y packages, todos elementos que son fundamentales en el trabajo con bases de datos Oracle.\n",
            "   - Trabajó en Grupo Inventiva S.A.C.I., donde tuvo contacto con varios clientes y proyectos que involucraban el uso de Oracle, lo que refuerza su experiencia en este ámbito.\n",
            "\n",
            "3. **Proyectos Específicos**:\n",
            "   - Ha participado en proyectos de migración de Oracle Forms y Reports a versiones más recientes y a Oracle Application Express (APEX), lo que demuestra su capacidad para manejar diferentes versiones y entornos de Oracle.\n",
            "   - En su trabajo en Excelsis SACIG, participó en la migración de programas y reportes de Oracle Forms y Reports 11g a APEX y AOP, lo que implica un conocimiento profundo de la arquitectura y funcionamiento de las bases de datos Oracle.\n",
            "\n",
            "4. **Certificaciones**:\n",
            "   - Gerardo es un Oracle SQL Certified Associate, lo que valida su conocimiento y habilidades en el manejo de bases de datos Oracle, específicamente en SQL.\n",
            "\n",
            "En resumen, Gerardo Alexis López tiene una sólida experiencia en el trabajo con bases de datos Oracle, abarcando desde el desarrollo y mantenimiento hasta la migración y administración de bases de datos en diferentes versiones de Oracle. Su formación y experiencia laboral lo posicionan como un profesional competente en este campo.\n"
          ]
        }
      ],
      "source": [
        "#3.1 Escribe la pregunta\n",
        "response = retrieval_chain.invoke({\"input\": \" Gerardo Alexis Lopez, ¿Tiene experiencia trabajando con base de datos Oracle?\"})\n",
        "print(response[\"answer\"])"
      ]
    },
    {
      "cell_type": "markdown",
      "metadata": {
        "id": "Z_5Qoh0ilfgQ"
      },
      "source": [
        "**La segunda pregunta trae información de otro CV como por ejemplo:  Gerardo es Oracle SQL Certified Associate**"
      ]
    },
    {
      "cell_type": "code",
      "execution_count": null,
      "metadata": {
        "colab": {
          "base_uri": "https://localhost:8080/"
        },
        "id": "PBFtLwQ9Um30",
        "outputId": "26c62559-5156-438b-cd99-2fbea10d0d80"
      },
      "outputs": [
        {
          "name": "stdout",
          "output_type": "stream",
          "text": [
            "Karen Riveros es una ingeniera en informática empresarial con experiencia en análisis de datos e inteligencia de negocios, así como en aseguramiento de calidad (Quality Assurance). Desde marzo de 2023, trabaja de manera remota en Paraguay, habiendo acumulado experiencia tanto en empresas locales como en Alemania. Su enfoque profesional se centra en el desarrollo de soluciones que mejoren la satisfacción del cliente, destacando sus habilidades analíticas, atención al detalle y orientación hacia la resolución de problemas.\n",
            "\n",
            "En cuanto a su formación académica, Karen está cursando una Maestría en Ciencia de Datos, lo que complementa su sólida base en análisis y procesamiento de datos, visualización de datos, elaboración de métricas y análisis funcional de software. Además, tiene experiencia en pruebas funcionales y capacitación a usuarios.\n",
            "\n",
            "Su trayectoria laboral incluye una pasantía en BASF SE, donde participó en la digitalización y gestión de proyectos, así como en la elaboración de reportes en Power BI y la estandarización de datos. También trabajó como analista de datos y en aseguramiento de calidad en CDS S.A., donde aplicó sus conocimientos en la elaboración de casos de prueba y la corrección de datos.\n",
            "\n",
            "Karen es competente en varios lenguajes de programación, incluyendo SQL, Python y Java, y tiene habilidades en herramientas de visualización como Power BI. Además, es bilingüe, dominando el español y el inglés, y posee conocimientos de alemán. Su objetivo profesional es contribuir al crecimiento y organización de las empresas a través de su liderazgo, trabajo en equipo y conocimientos técnicos.\n"
          ]
        }
      ],
      "source": [
        "#4 Escribe la pregunta\n",
        "response = retrieval_chain.invoke({\"input\": \"Necesito un resumen del perfil profesional de Karen Riveros\"})\n",
        "print(response[\"answer\"])"
      ]
    },
    {
      "cell_type": "code",
      "execution_count": 5,
      "metadata": {
        "id": "EYvhCKNA_ekt"
      },
      "outputs": [],
      "source": [
        "agregar_fila(4, \"Correcta\")"
      ]
    },
    {
      "cell_type": "markdown",
      "metadata": {
        "id": "9ifphYWl_cyr"
      },
      "source": [
        "**RESPUESTA CORRECTA**"
      ]
    },
    {
      "cell_type": "code",
      "execution_count": null,
      "metadata": {
        "colab": {
          "base_uri": "https://localhost:8080/"
        },
        "id": "GbYNq6LIU3yB",
        "outputId": "af57b8d6-2a60-48a5-c14d-674d0ddda3b2"
      },
      "outputs": [
        {
          "name": "stdout",
          "output_type": "stream",
          "text": [
            "Basado en el contexto proporcionado, las personas con formación académica de maestría en ciencia de datos son:\n",
            "\n",
            "1. **Jorge Dagoberto Benítez Cabana**\n",
            "   - Maestría en Ciencia de Datos (mar 2024 - presente) en Universidad Comunera, Asunción.\n",
            "\n",
            "2. **Karen Riveros**\n",
            "   - Maestría en Ciencia de Datos (2024 - 2025) en Universidad Comunera.\n",
            "\n",
            "3. **Fernando Manuel Enciso**\n",
            "   - Diplomado en Ciencias de Datos (2023) en Universidad Comunera. (Nota: No se menciona explícitamente una maestría, pero se incluye por su relevancia en el área de ciencia de datos).\n",
            "\n",
            "Estas son las personas mencionadas en el contexto que están relacionadas con la formación en ciencia de datos a nivel de maestría o diplomado.\n"
          ]
        }
      ],
      "source": [
        "#5 Escribe la pregunta\n",
        "response = retrieval_chain.invoke({\"input\": \"Listar el nombre de personas con formación académica de maestría en ciencia de datos\"})\n",
        "print(response[\"answer\"])"
      ]
    },
    {
      "cell_type": "code",
      "execution_count": 6,
      "metadata": {
        "id": "q6vutMzn_6fP"
      },
      "outputs": [],
      "source": [
        "agregar_fila(5, \"Correcta\")"
      ]
    },
    {
      "cell_type": "markdown",
      "metadata": {
        "id": "gpr6h-A6nJxR"
      },
      "source": [
        "**RESPUESTA CORRECTA: Fernando Encisco tiene un diplomado en ciencia de datos; el LLM aclara que no tiene una maestría; pero si algunos conocimientos adquiridos en el diplomado**"
      ]
    },
    {
      "cell_type": "code",
      "execution_count": null,
      "metadata": {
        "colab": {
          "base_uri": "https://localhost:8080/"
        },
        "id": "r7qKRQyKVtp1",
        "outputId": "50914637-c26d-4d89-e7ae-188b1857b703"
      },
      "outputs": [
        {
          "name": "stdout",
          "output_type": "stream",
          "text": [
            "Claro, a continuación se presentan los nombres y apellidos de las personas que han cursado sus estudios en la Facultad Politécnica de la Universidad Nacional de Asunción, según el contexto proporcionado:\n",
            "\n",
            "1. **Alejandro Chelli Nuñez** - Cursando la carrera de Ingeniería en Informática.\n",
            "2. **Delia Hulskamp** - Licenciada en Análisis de Sistemas Informáticos, Ingeniera en Informática, y actualmente cursando un Magíster en TIC con énfasis en Seguridad de la Información.\n",
            "3. **Francisco Hernán Lezcano Sandoval** - Cursando el 5to Semestre de Licenciatura en Ciencias Informáticas.\n",
            "4. **Emanuel Lino José Lugo Bordón** - Cursando el 4º semestre de Ingeniería en Informática.\n",
            "5. **Aurelio Almirón Torres** - Licenciado en Ciencias Informáticas con Énfasis en Análisis de Sistemas.\n",
            "6. **Luis Alberto Rios Rivarola** - Cursando actualmente la Licenciatura en Ciencias Informáticas con énfasis en Análisis de Sistemas Informáticos, en su 3° año.\n",
            "\n",
            "Estos son los nombres y apellidos de los individuos mencionados en el contexto que han tenido formación académica en la Facultad Politécnica de la Universidad Nacional de Asunción.\n"
          ]
        }
      ],
      "source": [
        "#6 Escribe la pregunta\n",
        "response = retrieval_chain.invoke({\"input\": \"¿Podrías facilitar el nombre y apellido de las personas que han cursado sus estudios en Facultad Politécnica de la Universidad Nacional de Asunción?\"})\n",
        "print(response[\"answer\"])"
      ]
    },
    {
      "cell_type": "code",
      "execution_count": 7,
      "metadata": {
        "id": "tdjI9EDrA6tt"
      },
      "outputs": [],
      "source": [
        "agregar_fila(6, \"Parcialmente correcta\")"
      ]
    },
    {
      "cell_type": "markdown",
      "metadata": {
        "id": "mFOVzJernAK8"
      },
      "source": [
        "**RESPUESTA PARCIALMENTE CORRECTA: Alejandro Chelli no estudia en la Facultad Politécnica**"
      ]
    },
    {
      "cell_type": "code",
      "execution_count": null,
      "metadata": {
        "colab": {
          "base_uri": "https://localhost:8080/"
        },
        "id": "jztVIaiQV_Dp",
        "outputId": "055c5d93-fcee-4ef4-90bf-8a30af3ed64f"
      },
      "outputs": [
        {
          "name": "stdout",
          "output_type": "stream",
          "text": [
            "A continuación se presenta la lista de nombres y números de teléfono de las personas que estudian o estudiaron la carrera de Licenciatura en Análisis de Sistemas:\n",
            "\n",
            "1. **César González**\n",
            "   - Teléfono: (0971) 640 857\n",
            "\n",
            "2. **Jorge Dagoberto Benítez Cabana**\n",
            "   - Teléfono: +595971122993\n",
            "\n",
            "3. **Alexander José María Benitez Bracho**\n",
            "   - Teléfono: (021) 595051 - (0981) 487969\n",
            "\n",
            "4. **Fernando Manuel Enciso**\n",
            "   - Teléfono: +56998965250\n",
            "\n",
            "5. **Luis Fernando Capdevila Avalos**\n",
            "   - Teléfono: +595 961 395948\n",
            "\n",
            "6. **Arnaldo Manuel Llanes Vázquez**\n",
            "   - Teléfono: 0995670472\n",
            "\n",
            "Esta información se ha recopilado del contexto proporcionado.\n"
          ]
        }
      ],
      "source": [
        "#7  Escribe la pregunta\n",
        "response = retrieval_chain.invoke({\"input\": \" Favor listar el nombre y número de teléfono de todas las personas que estudian o estudiaron la carrera de licenciatura en análisis de sistemas\"})\n",
        "print(response[\"answer\"])"
      ]
    },
    {
      "cell_type": "code",
      "execution_count": 8,
      "metadata": {
        "id": "GG_5YcVSBYAZ"
      },
      "outputs": [],
      "source": [
        "agregar_fila(7, \"Parcialmente correcta\")"
      ]
    },
    {
      "cell_type": "markdown",
      "metadata": {
        "id": "n0ljM7F6o0C0"
      },
      "source": [
        "**RESPUESTA PARCIALMENTE CORRECTA: Arnaldo Manuel Llanes Vázquez, estudió ingeniería.**"
      ]
    },
    {
      "cell_type": "code",
      "execution_count": null,
      "metadata": {
        "colab": {
          "base_uri": "https://localhost:8080/"
        },
        "id": "8-ErpV8sWP3y",
        "outputId": "135fecae-1d5e-4cfd-f705-9b9062071c32"
      },
      "outputs": [
        {
          "name": "stdout",
          "output_type": "stream",
          "text": [
            "Basado en el contexto proporcionado, las siguientes personas tienen un perfil de desarrollador backend:\n",
            "\n",
            "1. **Carlos Cristóbal Torres Carballo**\n",
            "   - Aptitudes en Back-End con tecnologías como Microsoft ASP.NET, Entity Framework, y más.\n",
            "\n",
            "2. **Israel Carballo**\n",
            "   - Desarrollador en mantenimiento y desarrollo de aplicaciones web, utilizando tecnologías como .NET, C#, y SQL Server.\n",
            "\n",
            "3. **José Báez**\n",
            "   - Desarrollador de software con experiencia en backend, utilizando Java, Spring Boot, SQL, JPA, y Hibernate.\n",
            "\n",
            "4. **Jorge Daniel Britez González**\n",
            "   - Desarrollador FullStack, con experiencia en programación backend en C# y SQL.\n",
            "\n",
            "5. **Fernando de la Mora**\n",
            "   - Desarrollador con experiencia en backend utilizando C#, ASP.NET Core, y SQL Server.\n",
            "\n",
            "6. **Mathias Villasanti**\n",
            "   - Desarrollador Full Stack, con experiencia en backend y análisis, aunque no se especifican tecnologías concretas en el contexto.\n",
            "\n",
            "Estos individuos tienen experiencia y habilidades relevantes en desarrollo backend, utilizando diversas tecnologías y herramientas.\n"
          ]
        }
      ],
      "source": [
        "#8  Escribe la pregunta\n",
        "response = retrieval_chain.invoke({\"input\": \" Favor mencionar el nombre de las personas con perfil de desarrollador backend\"})\n",
        "print(response[\"answer\"])"
      ]
    },
    {
      "cell_type": "code",
      "execution_count": 9,
      "metadata": {
        "id": "mBwkuLi0BcLi"
      },
      "outputs": [],
      "source": [
        "agregar_fila(8, \"Correcta\")"
      ]
    },
    {
      "cell_type": "markdown",
      "metadata": {
        "id": "Tbdg6BOhpwZ7"
      },
      "source": [
        "**RESPUESTA CORRECTA: El 5to candidato es Jorge Britez, por la forma como está estructurado el CV tomó su dirección como nombre**"
      ]
    },
    {
      "cell_type": "code",
      "execution_count": null,
      "metadata": {
        "colab": {
          "base_uri": "https://localhost:8080/"
        },
        "id": "v-IpsTu8WbaU",
        "outputId": "0f8d9b49-075f-48f0-8c8f-072c5d659d9e"
      },
      "outputs": [
        {
          "name": "stdout",
          "output_type": "stream",
          "text": [
            "Las habilidades blandas del candidato Willian Paez, según el contexto proporcionado, son las siguientes:\n",
            "\n",
            "1. **Proactividad**: Willian se describe como proactivo, lo que indica que toma la iniciativa y busca oportunidades para mejorar o contribuir sin necesidad de que se le indique.\n",
            "\n",
            "2. **Capacidad para trabajar en equipo**: Menciona tener predisposición y capacidad para colaborar con otros, lo que es fundamental en entornos laborales donde la cooperación es clave para el éxito de proyectos.\n",
            "\n",
            "3. **Adaptabilidad**: Tiene la habilidad de adaptarse a distintos ambientes laborales, lo que sugiere que puede ajustarse a nuevas situaciones y desafíos con facilidad.\n",
            "\n",
            "4. **Autodidacta**: Willian se considera autodidacta, lo que implica que tiene la capacidad de aprender de manera independiente y buscar nuevos conocimientos o habilidades por su cuenta.\n",
            "\n",
            "5. **Resolución de problemas**: Muestra una inclinación hacia la resolución de problemas, lo que es esencial en el campo tecnológico, donde a menudo se presentan desafíos inesperados que requieren soluciones efectivas.\n",
            "\n",
            "6. **Orientación al detalle**: Esta habilidad sugiere que presta atención a los detalles, lo cual es crucial en el desarrollo de software y en la gestión de proyectos, donde los errores pequeños pueden tener grandes repercusiones.\n",
            "\n",
            "7. **Habilidades organizativas y de gestión del tiempo**: Willian menciona tener habilidades organizativas, lo que implica que puede manejar su tiempo y recursos de manera eficiente para cumplir con plazos y objetivos.\n",
            "\n",
            "8. **Flexibilidad**: La flexibilidad es otra habilidad blanda que posee, lo que significa que puede ajustarse a cambios y nuevas circunstancias sin perder efectividad.\n",
            "\n",
            "9. **Comunicación efectiva**: Aunque no se menciona explícitamente, la capacidad de trabajar en equipo y resolver problemas a menudo está vinculada a una buena comunicación, lo que sugiere que Willian también puede comunicarse de manera clara y efectiva con sus colegas.\n",
            "\n",
            "Estas habilidades blandas son complementarias a su formación técnica y experiencia laboral, y son altamente valoradas en el ámbito profesional, especialmente en roles que requieren colaboración y adaptación a entornos cambiantes.\n"
          ]
        }
      ],
      "source": [
        "#9  Escribe la pregunta\n",
        "response = retrieval_chain.invoke({\"input\": \" ¿Cuáles son las habilidades blandas del candidato Willian Paez?\"})\n",
        "print(response[\"answer\"])"
      ]
    },
    {
      "cell_type": "code",
      "execution_count": 10,
      "metadata": {
        "id": "x57RagbvCR3P"
      },
      "outputs": [],
      "source": [
        "agregar_fila(9, \"Parcialmente correcta\")"
      ]
    },
    {
      "cell_type": "markdown",
      "metadata": {
        "id": "bwWj6WGErS4P"
      },
      "source": [
        "**RESPUESTA PARCIALMENTE CORRECTA: Proporcionó información adicional que no estaba en el CV**"
      ]
    },
    {
      "cell_type": "code",
      "execution_count": null,
      "metadata": {
        "colab": {
          "base_uri": "https://localhost:8080/"
        },
        "id": "-WntFzplW426",
        "outputId": "d426331a-8795-4b16-f868-8ff98bdd0160"
      },
      "outputs": [
        {
          "name": "stdout",
          "output_type": "stream",
          "text": [
            "A continuación se presenta la información de los candidatos que programan con los lenguajes Java, C# o Python, junto con su respectivo email y el lenguaje que manejan:\n",
            "\n",
            "1. **Oscar Santacruz**\n",
            "   - **Email:** cctc2013@gmail.com\n",
            "   - **Lenguajes:** Java, Python\n",
            "\n",
            "2. **Carlos Cristóbal Torres Carballo**\n",
            "   - **Email:** cctc2013@gmail.com\n",
            "   - **Lenguajes:** Java, C#\n",
            "\n",
            "3. **Jorge Daniel Britez González**\n",
            "   - **Email:** jorgedanielbritezg@gmail.com\n",
            "   - **Lenguajes:** C#, Python\n",
            "\n",
            "4. **Marcelo Nicolás González Vega**\n",
            "   - **Email:** marcelogonve@gmail.com\n",
            "   - **Lenguajes:** Java, Python\n",
            "\n",
            "5. **Cristian Ariel Vera Florentin**\n",
            "   - **Email:** mroa@excelsis.com.py\n",
            "   - **Lenguajes:** Java\n",
            "\n",
            "Estos son los candidatos que cumplen con los requisitos solicitados.\n"
          ]
        }
      ],
      "source": [
        "#10  Escribe la pregunta\n",
        "response = retrieval_chain.invoke({\"input\": \" Favor indicar el nombre y email de los candidatos que programan con el lenguaje java o C# o python, Indicar por cada candidato cual lenguaje maneja\"})\n",
        "print(response[\"answer\"])"
      ]
    },
    {
      "cell_type": "code",
      "execution_count": 11,
      "metadata": {
        "id": "LNburzZbCg6B"
      },
      "outputs": [],
      "source": [
        "agregar_fila(10, \"Correcta\")"
      ]
    },
    {
      "cell_type": "markdown",
      "metadata": {
        "id": "mXeZt0NdrZkF"
      },
      "source": [
        "**RESPUESTA CORRECTA**"
      ]
    },
    {
      "cell_type": "code",
      "execution_count": null,
      "metadata": {
        "colab": {
          "base_uri": "https://localhost:8080/"
        },
        "id": "ae27bO9dYMRy",
        "outputId": "ad6719f6-56b8-4273-b166-773cc1d87bae"
      },
      "outputs": [
        {
          "name": "stdout",
          "output_type": "stream",
          "text": [
            "Basado en el contexto proporcionado, se pueden identificar varias personas que tienen habilidades de liderazgo de equipos. A continuación, se detallan sus nombres y roles relevantes:\n",
            "\n",
            "1. **Karina Flecha** - **Tech Lead** en ITTI. Ella lidera y coordina el equipo técnico del principal core bancario nacional del país, lo que implica habilidades de liderazgo y gestión de equipos.\n",
            "\n",
            "2. **Lic. Raúl De Los Santos Cáceres Penayo** - **Director de Tecnología** y **Consultor de Negocios & Tecnología**. Se describe a sí mismo como un profesional apasionado por el liderazgo transformacional y la adopción de tecnologías innovadoras, lo que sugiere habilidades en liderazgo de equipos.\n",
            "\n",
            "3. **Carlos Cristóbal Torres Carballo** - Aunque su perfil se centra más en habilidades técnicas, su experiencia en desarrollo de software y trabajo en equipo sugiere que puede haber ejercido liderazgo en proyectos.\n",
            "\n",
            "4. **Micaela Maldonado** - **Ingeniera en Tecnologías de la Información Empresarial**. Su experiencia incluye supervisión del equipo y planificación de tareas, lo que implica habilidades de liderazgo.\n",
            "\n",
            "5. **Gustavo Fernando González Cabral** - **Project Manager** en la implementación de ERP Odoo. Su rol implica la gestión de proyectos y coordinación de equipos, lo que requiere habilidades de liderazgo.\n",
            "\n",
            "6. **Jorge Dagoberto Benítez Cabana** - **Desarrollador Core Bancario** y **Docente**. Su experiencia en liderazgo técnico y en la enseñanza sugiere que tiene habilidades para liderar equipos en entornos de desarrollo.\n",
            "\n",
            "Estos profesionales no solo tienen roles que implican liderazgo, sino que también han demostrado habilidades en la gestión de equipos y proyectos a lo largo de sus carreras.\n"
          ]
        }
      ],
      "source": [
        "#11  Escribe la pregunta\n",
        "response = retrieval_chain.invoke({\"input\": \"Favor remitir el nombre de las personas con habilidad de liderazgo de equipos\"})\n",
        "print(response[\"answer\"])"
      ]
    },
    {
      "cell_type": "code",
      "execution_count": 12,
      "metadata": {
        "id": "fITo_TfBCs_x"
      },
      "outputs": [],
      "source": [
        "agregar_fila(11, \"Correcta\")"
      ]
    },
    {
      "cell_type": "markdown",
      "metadata": {
        "id": "ak1-qnK-rjq4"
      },
      "source": [
        "**RESPUESTA CORRECTA: Carlos Cristóbal Torres Carballo, deduce que puede tener liderazgo de equipos, no menciona explícitamente en sus habilidades**"
      ]
    },
    {
      "cell_type": "code",
      "execution_count": null,
      "metadata": {
        "colab": {
          "base_uri": "https://localhost:8080/"
        },
        "id": "T7JsYOxH0b-m",
        "outputId": "a87a03b9-792e-4c4d-a752-fc1d27e5955f"
      },
      "outputs": [
        {
          "name": "stdout",
          "output_type": "stream",
          "text": [
            "A continuación, se presentan los enlaces de los perfiles de LinkedIn de las personas mencionadas en el contexto que tienen experiencia en bases de datos:\n",
            "\n",
            "1. **Fabio Ojeda**: No se proporciona un enlace de LinkedIn en el contexto.\n",
            "   \n",
            "2. **Jorge Dagoberto Benítez Cabana**: \n",
            "   - LinkedIn: [linkedin.com/in/jorge-dagoberto-9338b5169](https://linkedin.com/in/jorge-dagoberto-9338b5169)\n",
            "\n",
            "3. **Carlos Cristóbal Torres Carballo**: \n",
            "   - LinkedIn: [linkedin.com/in/carlos-cristóbal-torres-carballo-012368195](https://linkedin.com/in/carlos-cristóbal-torres-carballo-012368195)\n",
            "\n",
            "4. **Rubén Darío Domínguez**: No se proporciona un enlace de LinkedIn en el contexto.\n",
            "\n",
            "5. **Ciro Ferrario**: \n",
            "   - LinkedIn: [www.linkedin.com/in/ciro-ferrario-chavez](https://www.linkedin.com/in/ciro-ferrario-chavez)\n",
            "\n",
            "6. **Federico Escobar**: No se proporciona un enlace de LinkedIn en el contexto.\n",
            "\n",
            "Si necesitas más información sobre alguna de estas personas o sobre sus experiencias específicas en bases de datos, no dudes en preguntar.\n"
          ]
        }
      ],
      "source": [
        "#12  Escribe la pregunta\n",
        "response = retrieval_chain.invoke({\"input\": \"Favor remitir el link del perfil en linkedink de las personas con experiencia en base de datos\"})\n",
        "print(response[\"answer\"])"
      ]
    },
    {
      "cell_type": "code",
      "execution_count": 13,
      "metadata": {
        "id": "QNIOq86cC1ES"
      },
      "outputs": [],
      "source": [
        "agregar_fila(12, \"Correcta\")"
      ]
    },
    {
      "cell_type": "markdown",
      "metadata": {
        "id": "AQaHP39gC3w4"
      },
      "source": [
        "**RESPUESTA CORRECTA**"
      ]
    },
    {
      "cell_type": "code",
      "execution_count": null,
      "metadata": {
        "colab": {
          "base_uri": "https://localhost:8080/"
        },
        "id": "YbW6OAqa3h5g",
        "outputId": "176c8d12-2c7f-4395-f59b-34e405699932"
      },
      "outputs": [
        {
          "name": "stdout",
          "output_type": "stream",
          "text": [
            "Basado en el contexto proporcionado, las siguientes personas tienen certificación CCNA de CISCO:\n",
            "\n",
            "1. **Fernando David Jara Recalde**\n",
            "   - Cursando CCNA Routing and Switching en la Universidad Nacional de Asunción.\n",
            "\n",
            "2. **Alberto Martin Flecha Florentín**\n",
            "   - Ha completado varios módulos de CCNA: \n",
            "     - Módulo I - Introducción de redes TCP-IP (2013)\n",
            "     - Módulo II - Routing and Switching (2014)\n",
            "     - Módulo III - Escalamiento de Redes (2015)\n",
            "     - Módulo IV – Conexiones de Internet (2015)\n",
            "\n",
            "3. **Teresa Dejesus Cabrera Lezcano**\n",
            "   - Cursando CISCO CCNA1 en FUNDAINGE - Facultad Ingeniería de la UNA.\n",
            "\n",
            "4. **Angel Ariel Ucedo Mendoza**\n",
            "   - Ha completado el CCNA Módulo I - Introducción de redes TCP-IP (2013).\n",
            "\n",
            "Estas personas han demostrado su conocimiento en redes a través de la certificación CCNA, que es un reconocimiento importante en el campo de la tecnología de redes.\n"
          ]
        }
      ],
      "source": [
        "#13  Escribe la pregunta\n",
        "response = retrieval_chain.invoke({\"input\": \"Favor remitir el nombre de las personas con certificación CCNA de CISCO\"})\n",
        "print(response[\"answer\"])\n"
      ]
    },
    {
      "cell_type": "code",
      "execution_count": 14,
      "metadata": {
        "id": "bZKL32CSC_Y_"
      },
      "outputs": [],
      "source": [
        "agregar_fila(13, \"Parcialmente correcta\")"
      ]
    },
    {
      "cell_type": "markdown",
      "metadata": {
        "id": "RXgmxZmWsw4u"
      },
      "source": [
        "**RESPUESTA PARCIALMENTE CORRECTA: Angel Ucedo no tiene certificación CCNA**"
      ]
    },
    {
      "cell_type": "code",
      "execution_count": null,
      "metadata": {
        "colab": {
          "base_uri": "https://localhost:8080/"
        },
        "id": "QQsX471SBeU0",
        "outputId": "772389c2-b1ee-4e04-eb46-535e12afcce9"
      },
      "outputs": [
        {
          "name": "stdout",
          "output_type": "stream",
          "text": [
            "### Resumen del Perfil Profesional de Candidatos en Ingeniería de Datos o Análisis de Datos\n",
            "\n",
            "1. **Fabio Ojeda**\n",
            "   - **Teléfono:** 0982 191 868\n",
            "   - **Perfil:** Analista de datos con experiencia en mantenimiento y optimización de bases de datos, gestión de índices y optimización de consultas. Ha trabajado en colaboración con equipos de desarrollo y se mantiene actualizado en las últimas tecnologías. Su enfoque está en proporcionar soluciones efectivas que satisfagan las necesidades de los proyectos y clientes.\n",
            "\n",
            "2. **Jorge Dagoberto Benítez Cabana**\n",
            "   - **Teléfono:** +595 971 122 993\n",
            "   - **Perfil:** Licenciado en Análisis de Sistemas Informáticos con más de 8 años de experiencia en análisis, desarrollo e implementación de sistemas informáticos en entidades financieras. Actualmente cursando una Maestría en Ciencia de Datos. Tiene experiencia en desarrollo de funcionalidades para módulos de core bancario y en modelado de datos.\n",
            "\n",
            "3. **Freddy Guerrero**\n",
            "   - **Teléfono:** +595 991 981 278\n",
            "   - **Perfil:** Analista junior con formación en Ingeniería en Tecnologías de la Información Empresarial. Ha trabajado en proyectos de desarrollo y negocios en Alemania y Paraguay, con un enfoque en analítica de datos. Posee habilidades en SQL, Python, Tableau y Power BI, y está orientado a la resolución de problemas y la atención al cliente.\n",
            "\n",
            "4. **Karen Riveros**\n",
            "   - **Teléfono:** 0984 391 707\n",
            "   - **Perfil:** Ingeniera en Informática Empresarial con experiencia en Análisis de Datos y Aseguramiento de Calidad. Ha trabajado en proyectos de digitalización y es experta en recolección, limpieza y transformación de datos. Busca desarrollar soluciones efectivas para la satisfacción del cliente y tiene habilidades en Power BI, SQL y Python.\n",
            "\n",
            "5. **Diógenes Milciades Brítez Adorno**\n",
            "   - **Teléfono:** 0976 975 974\n",
            "   - **Perfil:** Estudiante de Licenciatura en Ciencias Informáticas con experiencia en soporte técnico y asesoría comercial. Ha trabajado en call centers y tiene conocimientos en programación y bases de datos. Está en búsqueda de oportunidades para aplicar sus conocimientos en el campo de la ingeniería de datos.\n",
            "\n",
            "6. **Gustavo Fernando González Cabral**\n",
            "   - **Teléfono:** +595 971 296 368\n",
            "   - **Perfil:** Ingeniero en TI Empresarial con experiencia en consultoría y gestión de proyectos, especializado en la implementación de ERP Odoo. Tiene habilidades en análisis de datos y optimización de procesos mediante herramientas como Looker Studio.\n",
            "\n",
            "Estos candidatos presentan una sólida formación académica y experiencia en el campo de la ingeniería de datos y análisis de datos, con habilidades técnicas y un enfoque en la resolución de problemas y la satisfacción del cliente.\n"
          ]
        }
      ],
      "source": [
        "#14  Escribe la pregunta\n",
        "response = retrieval_chain.invoke(\n",
        "    {\"input\": \"Preparar un breve resumen del perfil profesional de candidatos con experiencia laboral en ingeniería de datos o análisis de datos, incluir datos personales, nombre y teléfono\"})\n",
        "print(response[\"answer\"])"
      ]
    },
    {
      "cell_type": "code",
      "execution_count": 15,
      "metadata": {
        "id": "D6ITH8GmEYz2"
      },
      "outputs": [],
      "source": [
        "agregar_fila(14, \"Correcta\")"
      ]
    },
    {
      "cell_type": "markdown",
      "metadata": {
        "id": "Kqm6Lm0Ctdi0"
      },
      "source": [
        "**RESPUESTA CORRECTA: Fabio ojeda, figura como referencia de una persona que trabaja como analista de datos, por el formato del CV asoció como una persona con experiencia en esa area.**"
      ]
    },
    {
      "cell_type": "code",
      "execution_count": null,
      "metadata": {
        "colab": {
          "base_uri": "https://localhost:8080/"
        },
        "id": "4yxXt3lJp6g2",
        "outputId": "f64d08a6-d1a3-4a71-843f-7f142190554d"
      },
      "outputs": [
        {
          "name": "stdout",
          "output_type": "stream",
          "text": [
            "Basado en el contexto proporcionado, aquí tienes la lista de las personas con experiencia en desarrollo de core bancario, que nacieron a partir de 1993 y viven en Asunción, Luque, Limpio, Fernando de la Mora o Mariano Roque Alonso:\n",
            "\n",
            "1. **Jorge Dagoberto Benítez Cabana**\n",
            "   - **Teléfono:** +595971122993\n",
            "   - **Ubicación:** Isla Bogado, Luque\n",
            "   - **Fecha de nacimiento:** 24 de julio de 1993\n",
            "\n",
            "2. **Gerardo Alexis López Mongelos**\n",
            "   - **Teléfono:** 0983 141 514\n",
            "   - **Ubicación:** Hernandarias (no se encuentra en las localidades solicitadas, pero se incluye para referencia)\n",
            "   - **Fecha de nacimiento:** No especificada, pero se menciona que tiene experiencia en core bancario.\n",
            "\n",
            "3. **Oscar Santacruz**\n",
            "   - **Teléfono:** 0961853895\n",
            "   - **Ubicación:** Ñemby (cercano a las localidades solicitadas)\n",
            "   - **Fecha de nacimiento:** 18/05/1993\n",
            "\n",
            "Es importante señalar que la información sobre la fecha de nacimiento y la ubicación es clave para cumplir con los criterios solicitados. En este caso, Jorge Dagoberto Benítez Cabana y Oscar Santacruz cumplen con todos los requisitos. Gerardo Alexis López Mongelos tiene experiencia en core bancario, pero su ubicación no se ajusta a las especificadas.\n"
          ]
        }
      ],
      "source": [
        "#15  Escribe la pregunta\n",
        "response = retrieval_chain.invoke(\n",
        "    {\"input\": \"Listar el nombre y teléfono de las personas con experiencia en desarrollo de core bancario, que nacieron a partir del 1993 y viven en Asunción, Luque, Limpio, Fernando de la mora o Mariano Roque Alonso\"})\n",
        "print(response[\"answer\"])"
      ]
    },
    {
      "cell_type": "code",
      "execution_count": 16,
      "metadata": {
        "id": "CPTDCv3dEr_H"
      },
      "outputs": [],
      "source": [
        "agregar_fila(15, \"Correcta\")"
      ]
    },
    {
      "cell_type": "markdown",
      "metadata": {
        "id": "3gW0nN43Ev6k"
      },
      "source": [
        "**RESPUESTA CORRECTA**"
      ]
    },
    {
      "cell_type": "code",
      "execution_count": null,
      "metadata": {
        "colab": {
          "base_uri": "https://localhost:8080/"
        },
        "id": "M_9mdiVMgIHV",
        "outputId": "b40a4a48-588f-4195-9182-bcc66c7fd29f"
      },
      "outputs": [
        {
          "name": "stdout",
          "output_type": "stream",
          "text": [
            "En el contexto proporcionado, no se menciona ninguna experiencia laboral específica en la empresa GRUPO HORUS S.A. Por lo tanto, no se pueden listar nombres de personas con experiencia laboral en dicha empresa. Si necesitas información sobre otra empresa o algún otro tema, no dudes en preguntar.\n"
          ]
        }
      ],
      "source": [
        "# 16  Escribe la pregunta\n",
        "response = retrieval_chain.invoke(\n",
        "    {\"input\": \"Lista los nombres de las personas con experiencia laboral en la empresa GRUPO HORUS S.A.\"})\n",
        "print(response[\"answer\"])"
      ]
    },
    {
      "cell_type": "code",
      "execution_count": 17,
      "metadata": {
        "id": "PVgQyTbZE62D"
      },
      "outputs": [],
      "source": [
        "agregar_fila(16, \"Incorrecta\")"
      ]
    },
    {
      "cell_type": "markdown",
      "metadata": {
        "id": "p6cvUubDE2av"
      },
      "source": [
        "**RESPUESTA INCORRECTA: Edgar Missael Cabral Baez menciona a la empresa GRUPO HORUS S.A. como experiencia laboral**\n",
        "\n"
      ]
    },
    {
      "cell_type": "code",
      "execution_count": null,
      "metadata": {
        "colab": {
          "base_uri": "https://localhost:8080/"
        },
        "id": "_85Fo6IO07nv",
        "outputId": "9eb5566b-c2b6-4eaf-9581-a8ac6de2aaad"
      },
      "outputs": [
        {
          "name": "stdout",
          "output_type": "stream",
          "text": [
            "Sí, Fabio Díaz tiene experiencia laboral en AGRO Futurista-Coopetrol. Según el contexto proporcionado, ocupa el cargo de Ingeniero de Sistemas desde noviembre de 2024 hasta la fecha actual, lo que indica que ha estado trabajando allí durante aproximadamente seis meses. En este rol, se espera que Fabio aplique sus habilidades en informática para brindar soluciones efectivas y personalizadas, aunque no se especifican más detalles sobre sus responsabilidades específicas en esta empresa. Su trayectoria profesional también incluye otros roles en el ámbito de la tecnología de la información, lo que sugiere que tiene una sólida experiencia en el campo.\n"
          ]
        }
      ],
      "source": [
        "# 17  Escribe la pregunta\n",
        "response = retrieval_chain.invoke(\n",
        "    {\"input\": \"¿Fabio Diaz tiebe experiencia laboral en AGRO Futurista-Coopetrol?\"})\n",
        "print(response[\"answer\"])\n",
        "\n",
        "agregar_fila(18, \"Correcto\")"
      ]
    },
    {
      "cell_type": "code",
      "execution_count": 18,
      "metadata": {
        "id": "q20q4mhoFC87"
      },
      "outputs": [],
      "source": [
        "agregar_fila(17, \"Correcta\")"
      ]
    },
    {
      "cell_type": "markdown",
      "metadata": {
        "id": "dyPkyFefE-Vf"
      },
      "source": [
        "**RESPUESTA CORRECTA**"
      ]
    },
    {
      "cell_type": "markdown",
      "metadata": {
        "id": "8eU2eXbjcBeW"
      },
      "source": [
        "# Visualización de resultados"
      ]
    },
    {
      "cell_type": "code",
      "execution_count": 27,
      "metadata": {
        "colab": {
          "base_uri": "https://localhost:8080/",
          "height": 0
        },
        "id": "1bMSW81CbrA6",
        "outputId": "28c70284-5f39-4f8a-f3a9-c43a93a80717"
      },
      "outputs": [
        {
          "name": "stdout",
          "output_type": "stream",
          "text": [
            "1: Parcialmente correcta\n",
            "2: Incorrecta\n",
            "3: Correcta\n",
            "4: Correcta\n",
            "5: Correcta\n",
            "6: Parcialmente correcta\n",
            "7: Parcialmente correcta\n",
            "8: Correcta\n",
            "9: Parcialmente correcta\n",
            "10: Correcta\n",
            "11: Correcta\n",
            "12: Correcta\n",
            "13: Parcialmente correcta\n",
            "14: Correcta\n",
            "15: Correcta\n",
            "16: Incorrecta\n",
            "17: Correcta\n"
          ]
        }
      ],
      "source": [
        "imprimir_resultados(lista_datos)"
      ]
    },
    {
      "cell_type": "code",
      "execution_count": 33,
      "metadata": {
        "colab": {
          "base_uri": "https://localhost:8080/",
          "height": 607
        },
        "id": "E9-FKUf8bA1F",
        "outputId": "2d172994-0ff9-4052-e2ad-861a15efe681"
      },
      "outputs": [
        {
          "data": {
            "image/png": "[encoded data removed]",
            "text/plain": [
              "<Figure size 600x600 with 1 Axes>"
            ]
          },
          "metadata": {},
          "output_type": "display_data"
        }
      ],
      "source": [
        "graficar_pie_respuestas(lista_datos)"
      ]
    }
  ],
  "metadata": {
    "colab": {
      "provenance": []
    },
    "kernelspec": {
      "display_name": "base",
      "language": "python",
      "name": "python3"
    },
    "language_info": {
      "codemirror_mode": {
        "name": "ipython",
        "version": 3
      },
      "file_extension": ".py",
      "mimetype": "text/x-python",
      "name": "python",
      "nbconvert_exporter": "python",
      "pygments_lexer": "ipython3",
      "version": "3.11.7"
    }
  },
  "nbformat": 4,
  "nbformat_minor": 0
}
